{
 "cells": [
  {
   "cell_type": "markdown",
   "metadata": {
    "collapsed": true
   },
   "source": [
    "# 数字识别\n",
    "\n",
    "    项目来源：kaggle：Digit Recognizer\n",
    "    \n",
    "    实现识别手写数字图片模型\n",
    "\n",
    "\n",
    "## 一、读入数据\n",
    "    数据连接：https://www.kaggle.com/c/digit-recognizer/data\n"
   ]
  },
  {
   "cell_type": "code",
   "execution_count": 1,
   "metadata": {},
   "outputs": [],
   "source": [
    "#导入需要库\n",
    "import numpy as np\n",
    "import pandas as pd\n",
    "import matplotlib.pyplot as plt\n",
    "\n",
    "%matplotlib inline\n",
    "\n",
    "train_data_path = \"./train.csv\"\n",
    "test_data_path = \"./test.csv\""
   ]
  },
  {
   "cell_type": "code",
   "execution_count": 2,
   "metadata": {},
   "outputs": [
    {
     "name": "stdout",
     "output_type": "stream",
     "text": [
      "train data has 42000 data points with 785 variables each.\n",
      "test data has 28000 data points with 784 variables each.\n"
     ]
    },
    {
     "data": {
      "text/html": [
       "<div>\n",
       "<style scoped>\n",
       "    .dataframe tbody tr th:only-of-type {\n",
       "        vertical-align: middle;\n",
       "    }\n",
       "\n",
       "    .dataframe tbody tr th {\n",
       "        vertical-align: top;\n",
       "    }\n",
       "\n",
       "    .dataframe thead th {\n",
       "        text-align: right;\n",
       "    }\n",
       "</style>\n",
       "<table border=\"1\" class=\"dataframe\">\n",
       "  <thead>\n",
       "    <tr style=\"text-align: right;\">\n",
       "      <th></th>\n",
       "      <th>label</th>\n",
       "      <th>pixel0</th>\n",
       "      <th>pixel1</th>\n",
       "      <th>pixel2</th>\n",
       "      <th>pixel3</th>\n",
       "      <th>pixel4</th>\n",
       "      <th>pixel5</th>\n",
       "      <th>pixel6</th>\n",
       "      <th>pixel7</th>\n",
       "      <th>pixel8</th>\n",
       "      <th>...</th>\n",
       "      <th>pixel774</th>\n",
       "      <th>pixel775</th>\n",
       "      <th>pixel776</th>\n",
       "      <th>pixel777</th>\n",
       "      <th>pixel778</th>\n",
       "      <th>pixel779</th>\n",
       "      <th>pixel780</th>\n",
       "      <th>pixel781</th>\n",
       "      <th>pixel782</th>\n",
       "      <th>pixel783</th>\n",
       "    </tr>\n",
       "  </thead>\n",
       "  <tbody>\n",
       "    <tr>\n",
       "      <th>0</th>\n",
       "      <td>1</td>\n",
       "      <td>0</td>\n",
       "      <td>0</td>\n",
       "      <td>0</td>\n",
       "      <td>0</td>\n",
       "      <td>0</td>\n",
       "      <td>0</td>\n",
       "      <td>0</td>\n",
       "      <td>0</td>\n",
       "      <td>0</td>\n",
       "      <td>...</td>\n",
       "      <td>0</td>\n",
       "      <td>0</td>\n",
       "      <td>0</td>\n",
       "      <td>0</td>\n",
       "      <td>0</td>\n",
       "      <td>0</td>\n",
       "      <td>0</td>\n",
       "      <td>0</td>\n",
       "      <td>0</td>\n",
       "      <td>0</td>\n",
       "    </tr>\n",
       "  </tbody>\n",
       "</table>\n",
       "<p>1 rows × 785 columns</p>\n",
       "</div>"
      ],
      "text/plain": [
       "   label  pixel0  pixel1  pixel2  pixel3  pixel4  pixel5  pixel6  pixel7  \\\n",
       "0      1       0       0       0       0       0       0       0       0   \n",
       "\n",
       "   pixel8    ...     pixel774  pixel775  pixel776  pixel777  pixel778  \\\n",
       "0       0    ...            0         0         0         0         0   \n",
       "\n",
       "   pixel779  pixel780  pixel781  pixel782  pixel783  \n",
       "0         0         0         0         0         0  \n",
       "\n",
       "[1 rows x 785 columns]"
      ]
     },
     "metadata": {},
     "output_type": "display_data"
    },
    {
     "data": {
      "text/html": [
       "<div>\n",
       "<style scoped>\n",
       "    .dataframe tbody tr th:only-of-type {\n",
       "        vertical-align: middle;\n",
       "    }\n",
       "\n",
       "    .dataframe tbody tr th {\n",
       "        vertical-align: top;\n",
       "    }\n",
       "\n",
       "    .dataframe thead th {\n",
       "        text-align: right;\n",
       "    }\n",
       "</style>\n",
       "<table border=\"1\" class=\"dataframe\">\n",
       "  <thead>\n",
       "    <tr style=\"text-align: right;\">\n",
       "      <th></th>\n",
       "      <th>pixel0</th>\n",
       "      <th>pixel1</th>\n",
       "      <th>pixel2</th>\n",
       "      <th>pixel3</th>\n",
       "      <th>pixel4</th>\n",
       "      <th>pixel5</th>\n",
       "      <th>pixel6</th>\n",
       "      <th>pixel7</th>\n",
       "      <th>pixel8</th>\n",
       "      <th>pixel9</th>\n",
       "      <th>...</th>\n",
       "      <th>pixel774</th>\n",
       "      <th>pixel775</th>\n",
       "      <th>pixel776</th>\n",
       "      <th>pixel777</th>\n",
       "      <th>pixel778</th>\n",
       "      <th>pixel779</th>\n",
       "      <th>pixel780</th>\n",
       "      <th>pixel781</th>\n",
       "      <th>pixel782</th>\n",
       "      <th>pixel783</th>\n",
       "    </tr>\n",
       "  </thead>\n",
       "  <tbody>\n",
       "    <tr>\n",
       "      <th>0</th>\n",
       "      <td>0</td>\n",
       "      <td>0</td>\n",
       "      <td>0</td>\n",
       "      <td>0</td>\n",
       "      <td>0</td>\n",
       "      <td>0</td>\n",
       "      <td>0</td>\n",
       "      <td>0</td>\n",
       "      <td>0</td>\n",
       "      <td>0</td>\n",
       "      <td>...</td>\n",
       "      <td>0</td>\n",
       "      <td>0</td>\n",
       "      <td>0</td>\n",
       "      <td>0</td>\n",
       "      <td>0</td>\n",
       "      <td>0</td>\n",
       "      <td>0</td>\n",
       "      <td>0</td>\n",
       "      <td>0</td>\n",
       "      <td>0</td>\n",
       "    </tr>\n",
       "  </tbody>\n",
       "</table>\n",
       "<p>1 rows × 784 columns</p>\n",
       "</div>"
      ],
      "text/plain": [
       "   pixel0  pixel1  pixel2  pixel3  pixel4  pixel5  pixel6  pixel7  pixel8  \\\n",
       "0       0       0       0       0       0       0       0       0       0   \n",
       "\n",
       "   pixel9    ...     pixel774  pixel775  pixel776  pixel777  pixel778  \\\n",
       "0       0    ...            0         0         0         0         0   \n",
       "\n",
       "   pixel779  pixel780  pixel781  pixel782  pixel783  \n",
       "0         0         0         0         0         0  \n",
       "\n",
       "[1 rows x 784 columns]"
      ]
     },
     "metadata": {},
     "output_type": "display_data"
    }
   ],
   "source": [
    "#载入数据\n",
    "df_train_data = pd.read_csv(train_data_path)\n",
    "df_test_data = pd.read_csv(test_data_path)\n",
    "print(\"train data has {} data points with {} variables each.\".format(*df_train_data.shape))\n",
    "print(\"test data has {} data points with {} variables each.\".format(*df_test_data.shape))\n",
    "display(df_train_data.head(n=1))\n",
    "display(df_test_data.head(n=1))"
   ]
  },
  {
   "cell_type": "markdown",
   "metadata": {},
   "source": [
    "## 二、可视化部分digit数据生成"
   ]
  },
  {
   "cell_type": "code",
   "execution_count": 3,
   "metadata": {},
   "outputs": [],
   "source": [
    "#截取训练集lable、然后将dataframe数据转换成ndarry数据\n",
    "df_train_labels = df_train_data['label']\n",
    "train_labels = np.array(df_train_labels)\n",
    "df_train_features = df_train_data.drop(['label'], axis=1)\n",
    "train_datas = np.array(df_train_features)\n",
    "test_datas = np.array(df_test_data)"
   ]
  },
  {
   "cell_type": "code",
   "execution_count": 4,
   "metadata": {},
   "outputs": [
    {
     "name": "stdout",
     "output_type": "stream",
     "text": [
      "(42000, 784)\n",
      "(28000, 784)\n"
     ]
    }
   ],
   "source": [
    "print(train_datas.shape)\n",
    "print(test_datas.shape)"
   ]
  },
  {
   "cell_type": "markdown",
   "metadata": {},
   "source": [
    "显示部分digit图片"
   ]
  },
  {
   "cell_type": "code",
   "execution_count": 5,
   "metadata": {},
   "outputs": [
    {
     "data": {
      "image/png": "[encoded data removed]",
      "text/plain": [
       "<Figure size 1080x216 with 5 Axes>"
      ]
     },
     "metadata": {},
     "output_type": "display_data"
    },
    {
     "data": {
      "image/png": "[encoded data removed]",
      "text/plain": [
       "<Figure size 1080x216 with 5 Axes>"
      ]
     },
     "metadata": {},
     "output_type": "display_data"
    }
   ],
   "source": [
    "import math\n",
    "from PIL import Image\n",
    "\n",
    "def display_digit(np_datas):\n",
    "    fig = plt.figure(figsize=(15, 3 * math.ceil(len(np_datas)/5)))\n",
    "    for i,img in enumerate(np_datas):\n",
    "        img = img.reshape(28,28)\n",
    "        img = Image.fromarray(np.uint(img))#将数组转换为图片\n",
    "        ax = fig.add_subplot(math.ceil(len(np_datas)/5),5,i+1)\n",
    "        ax.set_xticks([])\n",
    "        ax.set_yticks([])\n",
    "        ax.imshow(img)\n",
    "    plt.show()\n",
    "    \n",
    "import random\n",
    "random.seed(2018)\n",
    "display_digit(train_datas[:5])\n",
    "display_digit(test_datas[:5])"
   ]
  },
  {
   "cell_type": "markdown",
   "metadata": {},
   "source": [
    "## 三、实现预处理函数\n",
    "\n",
    "### 标准化\n",
    "\n",
    "在下面的单元中，实现 `normalize` 函数，传入图片数据 `x`，并返回标准化 Numpy 数组。值应该在 0 到 1 的范围内（含 0 和 1）。返回对象应该和 `x` 的形状一样。\n"
   ]
  },
  {
   "cell_type": "code",
   "execution_count": 6,
   "metadata": {},
   "outputs": [],
   "source": [
    "def normalize(x):\n",
    "    \"\"\"\n",
    "    Normalize a list of sample image data in the range of 0 to 1\n",
    "    : x: List of image data.  The image shape is (28, 28, 1)\n",
    "    : return: Numpy array of normalize data\n",
    "    \"\"\"\n",
    "    x = np.array(x) /255\n",
    "    return  x.reshape(x.shape[0],28,28,1)\n",
    "\n",
    "\n",
    "train_X = normalize(train_datas)\n",
    "test_X = normalize(test_datas)"
   ]
  },
  {
   "cell_type": "code",
   "execution_count": 7,
   "metadata": {},
   "outputs": [
    {
     "name": "stdout",
     "output_type": "stream",
     "text": [
      "(42000, 28, 28, 1)\n",
      "(28000, 28, 28, 1)\n"
     ]
    }
   ],
   "source": [
    "print(train_X.shape)\n",
    "print(test_X.shape)"
   ]
  },
  {
   "cell_type": "markdown",
   "metadata": {},
   "source": [
    "### One-hot 编码\n",
    "\n",
    "输入`x`，是一个标签列表。实现该函数，以返回为 one_hot 编码的 Numpy 数组的标签列表。标签的可能值为 0 到 9。每次调用 `one_hot_encode` 时，对于每个值，one_hot 编码函数应该返回相同的编码。确保将编码映射保存到该函数外面。\n"
   ]
  },
  {
   "cell_type": "code",
   "execution_count": 8,
   "metadata": {},
   "outputs": [],
   "source": [
    "def one_hot_encode(x):\n",
    "    \"\"\"\n",
    "    One hot encode a list of sample labels. Return a one-hot encoded vector for each label.\n",
    "    : x: List of sample Labels\n",
    "    : return: Numpy array of one-hot encoded labels\n",
    "    \"\"\"\n",
    "    one_hot_lables = lb.transform(np.array(x))\n",
    "    return one_hot_lables\n",
    "\n",
    "from sklearn import preprocessing\n",
    "lb = preprocessing.LabelBinarizer()\n",
    "lb.fit(np.array([i for i in range(10)]))\n",
    "\n",
    "train_y = one_hot_encode(train_labels)"
   ]
  },
  {
   "cell_type": "code",
   "execution_count": 9,
   "metadata": {},
   "outputs": [
    {
     "name": "stdout",
     "output_type": "stream",
     "text": [
      "(42000, 10)\n"
     ]
    }
   ],
   "source": [
    "print(train_y.shape)"
   ]
  },
  {
   "cell_type": "markdown",
   "metadata": {},
   "source": [
    "### 随机化数据\n",
    "对数据集随机化处理，防止前n个数据为同一数字，不利于模型训练"
   ]
  },
  {
   "cell_type": "code",
   "execution_count": 10,
   "metadata": {},
   "outputs": [],
   "source": [
    "train_shuffle = list(zip(train_X, train_y))\n",
    "random.Random(2018).shuffle(train_shuffle)\n",
    "train_X, train_y = zip(*train_shuffle)"
   ]
  },
  {
   "cell_type": "code",
   "execution_count": 11,
   "metadata": {},
   "outputs": [
    {
     "name": "stdout",
     "output_type": "stream",
     "text": [
      "<class 'numpy.ndarray'>\n",
      "<class 'numpy.ndarray'>\n"
     ]
    }
   ],
   "source": [
    "train_X = np.array(train_X)\n",
    "train_y = np.array(train_y)\n",
    "print(type(train_X))\n",
    "print(type(train_y))"
   ]
  },
  {
   "cell_type": "markdown",
   "metadata": {},
   "source": [
    "## 构建网络"
   ]
  },
  {
   "cell_type": "code",
   "execution_count": 12,
   "metadata": {},
   "outputs": [
    {
     "name": "stderr",
     "output_type": "stream",
     "text": [
      "Using TensorFlow backend.\n"
     ]
    },
    {
     "name": "stdout",
     "output_type": "stream",
     "text": [
      "__________________________________________________________________________________________________\n",
      "Layer (type)                    Output Shape         Param #     Connected to                     \n",
      "==================================================================================================\n",
      "input_1 (InputLayer)            (None, 28, 28, 1)    0                                            \n",
      "__________________________________________________________________________________________________\n",
      "conv2d_1 (Conv2D)               (None, 28, 28, 32)   64          input_1[0][0]                    \n",
      "__________________________________________________________________________________________________\n",
      "conv2d_3 (Conv2D)               (None, 28, 28, 32)   64          input_1[0][0]                    \n",
      "__________________________________________________________________________________________________\n",
      "max_pooling2d_1 (MaxPooling2D)  (None, 28, 28, 1)    0           input_1[0][0]                    \n",
      "__________________________________________________________________________________________________\n",
      "conv2d_2 (Conv2D)               (None, 28, 28, 32)   9248        conv2d_1[0][0]                   \n",
      "__________________________________________________________________________________________________\n",
      "conv2d_4 (Conv2D)               (None, 28, 28, 32)   25632       conv2d_3[0][0]                   \n",
      "__________________________________________________________________________________________________\n",
      "conv2d_5 (Conv2D)               (None, 28, 28, 32)   64          max_pooling2d_1[0][0]            \n",
      "__________________________________________________________________________________________________\n",
      "concatenate_1 (Concatenate)     (None, 28, 28, 96)   0           conv2d_2[0][0]                   \n",
      "                                                                 conv2d_4[0][0]                   \n",
      "                                                                 conv2d_5[0][0]                   \n",
      "__________________________________________________________________________________________________\n",
      "add_1 (Add)                     (None, 28, 28, 96)   0           input_1[0][0]                    \n",
      "                                                                 concatenate_1[0][0]              \n",
      "__________________________________________________________________________________________________\n",
      "conv2d_6 (Conv2D)               (None, 28, 28, 64)   6208        add_1[0][0]                      \n",
      "__________________________________________________________________________________________________\n",
      "conv2d_8 (Conv2D)               (None, 28, 28, 64)   6208        add_1[0][0]                      \n",
      "__________________________________________________________________________________________________\n",
      "max_pooling2d_2 (MaxPooling2D)  (None, 28, 28, 96)   0           add_1[0][0]                      \n",
      "__________________________________________________________________________________________________\n",
      "conv2d_7 (Conv2D)               (None, 28, 28, 64)   36928       conv2d_6[0][0]                   \n",
      "__________________________________________________________________________________________________\n",
      "conv2d_9 (Conv2D)               (None, 28, 28, 64)   102464      conv2d_8[0][0]                   \n",
      "__________________________________________________________________________________________________\n",
      "conv2d_10 (Conv2D)              (None, 28, 28, 64)   6208        max_pooling2d_2[0][0]            \n",
      "__________________________________________________________________________________________________\n",
      "concatenate_2 (Concatenate)     (None, 28, 28, 192)  0           conv2d_7[0][0]                   \n",
      "                                                                 conv2d_9[0][0]                   \n",
      "                                                                 conv2d_10[0][0]                  \n",
      "__________________________________________________________________________________________________\n",
      "add_2 (Add)                     (None, 28, 28, 192)  0           input_1[0][0]                    \n",
      "                                                                 concatenate_2[0][0]              \n",
      "__________________________________________________________________________________________________\n",
      "global_average_pooling2d_1 (Glo (None, 192)          0           add_2[0][0]                      \n",
      "__________________________________________________________________________________________________\n",
      "dense_1 (Dense)                 (None, 1024)         197632      global_average_pooling2d_1[0][0] \n",
      "__________________________________________________________________________________________________\n",
      "dropout_1 (Dropout)             (None, 1024)         0           dense_1[0][0]                    \n",
      "__________________________________________________________________________________________________\n",
      "dense_2 (Dense)                 (None, 10)           10250       dropout_1[0][0]                  \n",
      "==================================================================================================\n",
      "Total params: 400,970\n",
      "Trainable params: 400,970\n",
      "Non-trainable params: 0\n",
      "__________________________________________________________________________________________________\n"
     ]
    }
   ],
   "source": [
    "from keras.layers import Conv2D,MaxPooling2D,Input, GlobalAveragePooling2D,Dropout,concatenate,add,Dense\n",
    "from keras.models import Model\n",
    "\n",
    "input_img = Input(shape=(28,28,1))\n",
    "tower1_1 = Conv2D(32,(1,1), padding='same', activation='relu')(input_img)\n",
    "tower1_1 = Conv2D(32,(3,3), padding='same', activation='relu')(tower1_1)\n",
    "tower1_2 = Conv2D(32,(1,1), padding='same', activation='relu')(input_img)\n",
    "tower1_2 = Conv2D(32,(5,5), padding='same', activation='relu')(tower1_2)\n",
    "tower1_3 = MaxPooling2D((3,3), strides=(1,1), padding='same')(input_img)\n",
    "tower1_3 = Conv2D(32, (1,1), padding='same', activation='relu')(tower1_3)\n",
    "inception1 = concatenate([tower1_1, tower1_2, tower1_3], axis=-1)\n",
    "output1 = add([input_img, inception1])\n",
    "\n",
    "tower2_1 = Conv2D(64,(1,1), padding='same', activation='relu')(output1)\n",
    "tower2_1 = Conv2D(64,(3,3), padding='same', activation='relu')(tower2_1)\n",
    "tower2_2 = Conv2D(64,(1,1), padding='same', activation='relu')(output1)\n",
    "tower2_2 = Conv2D(64,(5,5), padding='same', activation='relu')(tower2_2)\n",
    "tower2_3 = MaxPooling2D((3,3), strides=(1,1), padding='same')(output1)\n",
    "tower2_3 = Conv2D(64, (1,1), padding='same', activation='relu')(tower2_3)\n",
    "inception2 = concatenate([tower2_1, tower2_2, tower2_3], axis=-1)\n",
    "output2 = add([input_img, inception2])\n",
    "\n",
    "output = GlobalAveragePooling2D()(output2)\n",
    "\n",
    "output = Dense(1024, activation='relu')(output)\n",
    "\n",
    "output = Dropout(0.5)(output)\n",
    "\n",
    "predictions = Dense(10, activation='softmax')(output)\n",
    "\n",
    "model = Model(inputs=input_img, outputs = predictions)\n",
    "model.summary()\n"
   ]
  },
  {
   "cell_type": "markdown",
   "metadata": {},
   "source": [
    "## 训练神经网络"
   ]
  },
  {
   "cell_type": "markdown",
   "metadata": {},
   "source": [
    "### 回调函数\n",
    "history用于记录训练过程中train_loss和val_loss，earlyStopping用于当检测值不在改善时终止训练"
   ]
  },
  {
   "cell_type": "code",
   "execution_count": 13,
   "metadata": {},
   "outputs": [],
   "source": [
    "from keras import callbacks\n",
    "class LossHistory(callbacks.Callback):\n",
    "    def __init__(self):\n",
    "        self.epoch = 0\n",
    "        \n",
    "    def on_train_begin(self,logs={}):\n",
    "        self.losses = []\n",
    "        self.val_losses = []\n",
    "        self.acc = []\n",
    "        self.val_acc = []\n",
    "        self.epoch = 0\n",
    "    \n",
    "    def on_epoch_begin(self, batch, logs={}):\n",
    "        self.epoch += 1\n",
    "    \n",
    "    def on_epoch_end(self, btch, logs={}):\n",
    "        self.losses.append(logs.get('loss'))\n",
    "        self.val_losses.append(logs.get('val_loss'))\n",
    "        self.acc.append(logs.get('acc'))\n",
    "        self.val_acc.append(logs.get('val_acc'))\n",
    "        model.save('digit_recognizer_epoch{}.h5'.format(self.epoch))\n",
    "        \n",
    "history = LossHistory()\n",
    "earlyStopping = callbacks.EarlyStopping(monitor='val_loss', patience=3, verbose=0, mode='auto')"
   ]
  },
  {
   "cell_type": "markdown",
   "metadata": {},
   "source": [
    "### 训练loss、acc变化曲线函数"
   ]
  },
  {
   "cell_type": "code",
   "execution_count": 14,
   "metadata": {},
   "outputs": [],
   "source": [
    "import matplotlib.pyplot as plt\n",
    "def show_loss_and_acc(title_name):\n",
    "    plt.figure(figsize=(15,4))\n",
    "    loss = history.losses\n",
    "    val_loss = history.val_losses\n",
    "    plt.subplot(1,2,1)\n",
    "    plt.xlabel('Epochs')\n",
    "    plt.ylabel('Loss')\n",
    "    plt.title('Loss Trend: '+ title_name)\n",
    "    plt.plot(loss, 'blue', label='Training Loss')\n",
    "    plt.plot(val_loss, 'green', label='Validation Loss')\n",
    "    plt.xticks(range(0, history.epoch),range(1, history.epoch+1))\n",
    "    plt.legend()\n",
    "\n",
    "    \n",
    "    acc = history.acc\n",
    "    val_acc = history.val_acc\n",
    "    plt.subplot(1,2,2)\n",
    "    plt.xlabel('Epochs')\n",
    "    plt.ylabel('acc')\n",
    "    plt.title('acc Trend: ' + title_name)\n",
    "    plt.plot(acc, 'blue', label='Training acc')\n",
    "    plt.plot(val_acc, 'green', label='Validation acc')\n",
    "    plt.xticks(range(0, history.epoch), range(1, history.epoch+1))\n",
    "    plt.legend()\n",
    "    plt.show()"
   ]
  },
  {
   "cell_type": "markdown",
   "metadata": {},
   "source": [
    "### 设置超参"
   ]
  },
  {
   "cell_type": "code",
   "execution_count": 15,
   "metadata": {},
   "outputs": [],
   "source": [
    "epochs = 100\n",
    "batch_size = 64"
   ]
  },
  {
   "cell_type": "code",
   "execution_count": 16,
   "metadata": {},
   "outputs": [
    {
     "name": "stdout",
     "output_type": "stream",
     "text": [
      "Train on 33600 samples, validate on 8400 samples\n",
      "Epoch 1/100\n",
      "33600/33600 [==============================] - 1671s 50ms/step - loss: 1.3169 - acc: 0.5122 - val_loss: 0.5772 - val_acc: 0.8256\n",
      "Epoch 2/100\n",
      "33600/33600 [==============================] - 1711s 51ms/step - loss: 0.4181 - acc: 0.8690 - val_loss: 0.2992 - val_acc: 0.9096\n",
      "Epoch 3/100\n",
      "33600/33600 [==============================] - 1666s 50ms/step - loss: 0.2905 - acc: 0.9095 - val_loss: 0.2701 - val_acc: 0.9132\n",
      "Epoch 4/100\n",
      "33600/33600 [==============================] - 1669s 50ms/step - loss: 0.2298 - acc: 0.9280 - val_loss: 0.1966 - val_acc: 0.9410\n",
      "Epoch 5/100\n",
      "33600/33600 [==============================] - 1774s 53ms/step - loss: 0.2033 - acc: 0.9354 - val_loss: 0.1733 - val_acc: 0.9458\n",
      "Epoch 6/100\n",
      "33600/33600 [==============================] - 1661s 49ms/step - loss: 0.1809 - acc: 0.9431 - val_loss: 0.1574 - val_acc: 0.9529\n",
      "Epoch 7/100\n",
      "33600/33600 [==============================] - 1648s 49ms/step - loss: 0.1630 - acc: 0.9509 - val_loss: 0.1338 - val_acc: 0.9590\n",
      "Epoch 8/100\n",
      "33600/33600 [==============================] - 1642s 49ms/step - loss: 0.1462 - acc: 0.9557 - val_loss: 0.1463 - val_acc: 0.9544\n",
      "Epoch 9/100\n",
      "33600/33600 [==============================] - 1640s 49ms/step - loss: 0.1402 - acc: 0.9573 - val_loss: 0.1235 - val_acc: 0.9625\n",
      "Epoch 10/100\n",
      "33600/33600 [==============================] - 1645s 49ms/step - loss: 0.1211 - acc: 0.9633 - val_loss: 0.0978 - val_acc: 0.9680\n",
      "Epoch 11/100\n",
      "33600/33600 [==============================] - 1792s 53ms/step - loss: 0.1190 - acc: 0.9643 - val_loss: 0.1214 - val_acc: 0.9627\n",
      "Epoch 12/100\n",
      "33600/33600 [==============================] - 1703s 51ms/step - loss: 0.1068 - acc: 0.9675 - val_loss: 0.0909 - val_acc: 0.9721\n",
      "Epoch 13/100\n",
      "33600/33600 [==============================] - 1755s 52ms/step - loss: 0.1007 - acc: 0.9691 - val_loss: 0.0989 - val_acc: 0.9675\n",
      "Epoch 14/100\n",
      "33600/33600 [==============================] - 1664s 50ms/step - loss: 0.0953 - acc: 0.9704 - val_loss: 0.0921 - val_acc: 0.9736\n",
      "Epoch 15/100\n",
      "33600/33600 [==============================] - 1677s 50ms/step - loss: 0.0901 - acc: 0.9727 - val_loss: 0.0795 - val_acc: 0.9750\n",
      "Epoch 16/100\n",
      "33600/33600 [==============================] - 1674s 50ms/step - loss: 0.0881 - acc: 0.9732 - val_loss: 0.0958 - val_acc: 0.9708\n",
      "Epoch 17/100\n",
      "33600/33600 [==============================] - 1758s 52ms/step - loss: 0.0847 - acc: 0.9748 - val_loss: 0.0786 - val_acc: 0.9770\n",
      "Epoch 18/100\n",
      "33600/33600 [==============================] - 1697s 50ms/step - loss: 0.0827 - acc: 0.9752 - val_loss: 0.0753 - val_acc: 0.9777\n",
      "Epoch 19/100\n",
      "33600/33600 [==============================] - 1677s 50ms/step - loss: 0.0793 - acc: 0.9751 - val_loss: 0.0796 - val_acc: 0.9743\n",
      "Epoch 20/100\n",
      "33600/33600 [==============================] - 1693s 50ms/step - loss: 0.0761 - acc: 0.9763 - val_loss: 0.0664 - val_acc: 0.9806\n",
      "Epoch 21/100\n",
      "33600/33600 [==============================] - 1664s 50ms/step - loss: 0.0695 - acc: 0.9793 - val_loss: 0.0623 - val_acc: 0.9804\n",
      "Epoch 22/100\n",
      "33600/33600 [==============================] - 1662s 49ms/step - loss: 0.0679 - acc: 0.9790 - val_loss: 0.0736 - val_acc: 0.9769\n",
      "Epoch 23/100\n",
      "33600/33600 [==============================] - 1649s 49ms/step - loss: 0.0665 - acc: 0.9790 - val_loss: 0.0623 - val_acc: 0.9812\n",
      "Epoch 24/100\n",
      "33600/33600 [==============================] - 1650s 49ms/step - loss: 0.0653 - acc: 0.9804 - val_loss: 0.0602 - val_acc: 0.9832\n",
      "Epoch 25/100\n",
      "33600/33600 [==============================] - 1651s 49ms/step - loss: 0.0636 - acc: 0.9802 - val_loss: 0.1174 - val_acc: 0.9692\n",
      "Epoch 26/100\n",
      "33600/33600 [==============================] - 1656s 49ms/step - loss: 0.0635 - acc: 0.9804 - val_loss: 0.0587 - val_acc: 0.9827\n",
      "Epoch 27/100\n",
      "33600/33600 [==============================] - 1659s 49ms/step - loss: 0.0585 - acc: 0.9826 - val_loss: 0.0682 - val_acc: 0.9783\n",
      "Epoch 28/100\n",
      "33600/33600 [==============================] - 1653s 49ms/step - loss: 0.0598 - acc: 0.9813 - val_loss: 0.0554 - val_acc: 0.9855\n",
      "Epoch 29/100\n",
      "33600/33600 [==============================] - 1649s 49ms/step - loss: 0.0543 - acc: 0.9824 - val_loss: 0.0580 - val_acc: 0.9829\n",
      "Epoch 30/100\n",
      "33600/33600 [==============================] - 1664s 50ms/step - loss: 0.0533 - acc: 0.9836 - val_loss: 0.0758 - val_acc: 0.9782\n",
      "Epoch 31/100\n",
      "33600/33600 [==============================] - 1652s 49ms/step - loss: 0.0533 - acc: 0.9830 - val_loss: 0.0754 - val_acc: 0.9780\n"
     ]
    },
    {
     "data": {
      "text/plain": [
       "<keras.callbacks.History at 0x5c4b89b0>"
      ]
     },
     "execution_count": 16,
     "metadata": {},
     "output_type": "execute_result"
    }
   ],
   "source": [
    "model.compile(optimizer='Adam',              \n",
    "              loss='categorical_crossentropy',\n",
    "              metrics=['accuracy'])\n",
    "model.fit(x=train_X, y=train_y, batch_size=batch_size, epochs=epochs, callbacks=[history, earlyStopping], validation_split=0.2)"
   ]
  },
  {
   "cell_type": "code",
   "execution_count": 17,
   "metadata": {},
   "outputs": [
    {
     "data": {
      "image/png": "[encoded data removed]",
      "text/plain": [
       "<Figure size 1080x288 with 2 Axes>"
      ]
     },
     "metadata": {},
     "output_type": "display_data"
    }
   ],
   "source": [
    "show_loss_and_acc(\"Adam\")"
   ]
  },
  {
   "cell_type": "markdown",
   "metadata": {},
   "source": [
    "平滑收敛，且在28个epoch后val_loss最低，载入digit_recognizer_epoch28.h5对测试集进行预测"
   ]
  },
  {
   "cell_type": "markdown",
   "metadata": {},
   "source": [
    "\n",
    "## 测试模型\n",
    "\n",
    "利用在验证集上表现最佳的epoch对应的模型对测试集进行预测，这将是最终的准确率。"
   ]
  },
  {
   "cell_type": "code",
   "execution_count": 45,
   "metadata": {},
   "outputs": [],
   "source": [
    "#导入load_model\n",
    "from keras.models import load_model\n",
    "df = pd.read_csv(\"sample_submission.csv\")\n",
    "model_list = [\"digit_recognizer_epoch28.h5\"]"
   ]
  },
  {
   "cell_type": "code",
   "execution_count": 56,
   "metadata": {},
   "outputs": [],
   "source": [
    "for model_name in model_list:\n",
    "    del model\n",
    "    model = load_model(model_name)\n",
    "    predictions_test = model.predict(test_X)\n",
    "    for i in range(predictions_test.shape[0]):\n",
    "        pre = list(predictions_test[i])\n",
    "        df.at[i, 'Label'] = pre.index(max(pre))\n",
    "    df.to_csv('pred_'+ (model_name.split('.')[0] +'.csv'), index=None)"
   ]
  },
  {
   "cell_type": "code",
   "execution_count": 60,
   "metadata": {},
   "outputs": [
    {
     "data": {
      "image/png": "[encoded data removed]",
      "text/plain": [
       "<Figure size 1080x432 with 10 Axes>"
      ]
     },
     "metadata": {},
     "output_type": "display_data"
    }
   ],
   "source": [
    "def display_pred_digit(np_datas):\n",
    "    X = normalize(np_datas)\n",
    "    pred_y = model.predict(X)\n",
    "    fig = plt.figure(figsize=(15, 3 * math.ceil(len(np_datas)/5)))\n",
    "    for i,img in enumerate(np_datas):\n",
    "        img = img.reshape(28,28)\n",
    "        img = Image.fromarray(np.uint(img))#将数组转换为图片\n",
    "        ax = fig.add_subplot(math.ceil(len(np_datas)/5),5,i+1)\n",
    "        pre = list(pred_y[i])\n",
    "        ax.set_title(\"this digit {:.2f}% is {}\".format(max(pre) * 100, pre.index(max(pre))))\n",
    "        ax.set_xticks([])\n",
    "        ax.set_yticks([])\n",
    "        ax.imshow(img)\n",
    "    plt.show()\n",
    "    \n",
    "dis_pred_digit_np = test_datas[:10]\n",
    "display_pred_digit(dis_pred_digit_np)"
   ]
  }
 ],
 "metadata": {
  "kernelspec": {
   "display_name": "Python 3",
   "language": "python",
   "name": "python3"
  },
  "language_info": {
   "codemirror_mode": {
    "name": "ipython",
    "version": 3
   },
   "file_extension": ".py",
   "mimetype": "text/x-python",
   "name": "python",
   "nbconvert_exporter": "python",
   "pygments_lexer": "ipython3",
   "version": "3.5.5"
  }
 },
 "nbformat": 4,
 "nbformat_minor": 1
}
